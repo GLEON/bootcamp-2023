{
 "cells": [
  {
   "cell_type": "markdown",
   "id": "849d4f66-09c4-493d-87e5-d56bda8b34c0",
   "metadata": {},
   "source": [
    "# Converting netcdfs from zenodo to zarr stores on the persistent leap bucket"
   ]
  },
  {
   "cell_type": "code",
   "execution_count": 1,
   "id": "2c074bbc-5d6b-44b4-8990-955060566f45",
   "metadata": {},
   "outputs": [],
   "source": [
    "import xarray as xr\n",
    "import gcsfs"
   ]
  },
  {
   "cell_type": "code",
   "execution_count": 2,
   "id": "136071da-b797-40df-83ec-08d0f0069b88",
   "metadata": {},
   "outputs": [],
   "source": [
    "target_bucket = 'gs://leap-persistent/jbusecke/data/climatebench'\n",
    "fs = gcsfs.GCSFileSystem()"
   ]
  },
  {
   "cell_type": "code",
   "execution_count": 3,
   "id": "5d728366-c178-4bb6-ab6c-cca1e1b1e1e7",
   "metadata": {},
   "outputs": [],
   "source": [
    "# download the files from zenodo\n",
    "import pooch\n",
    "\n",
    "link_dict = {\n",
    "    'train_val':['https://zenodo.org/record/7064308/files/train_val.tar.gz', None],\n",
    "    'test': ['https://zenodo.org/record/7064308/files/test.tar.gz', None],\n",
    "}\n",
    "file_dict = {name: pooch.retrieve(url, checksum, processor=pooch.Untar()) for name, (url, checksum) in link_dict.items()}\n",
    "dataset_dict = {name: {file.split('/')[-1].replace('.nc', ''): xr.open_dataset(file) for file in files} for name, files in file_dict.items()}"
   ]
  },
  {
   "cell_type": "code",
   "execution_count": 4,
   "id": "587d36f8-bade-47ea-88e3-01b8cbd5e406",
   "metadata": {},
   "outputs": [
    {
     "data": {
      "text/plain": [
       "{'train_val': ['/home/jovyan/.cache/pooch/7476b1c80c6530a3632c6f7ef49bd9c5-train_val.tar.gz.untar/inputs_ssp370-lowNTCF.nc',\n",
       "  '/home/jovyan/.cache/pooch/7476b1c80c6530a3632c6f7ef49bd9c5-train_val.tar.gz.untar/inputs_historical.nc',\n",
       "  '/home/jovyan/.cache/pooch/7476b1c80c6530a3632c6f7ef49bd9c5-train_val.tar.gz.untar/outputs_ssp126.nc',\n",
       "  '/home/jovyan/.cache/pooch/7476b1c80c6530a3632c6f7ef49bd9c5-train_val.tar.gz.untar/inputs_abrupt-4xCO2.nc',\n",
       "  '/home/jovyan/.cache/pooch/7476b1c80c6530a3632c6f7ef49bd9c5-train_val.tar.gz.untar/inputs_ssp370.nc',\n",
       "  '/home/jovyan/.cache/pooch/7476b1c80c6530a3632c6f7ef49bd9c5-train_val.tar.gz.untar/outputs_historical.nc',\n",
       "  '/home/jovyan/.cache/pooch/7476b1c80c6530a3632c6f7ef49bd9c5-train_val.tar.gz.untar/inputs_hist-GHG.nc',\n",
       "  '/home/jovyan/.cache/pooch/7476b1c80c6530a3632c6f7ef49bd9c5-train_val.tar.gz.untar/outputs_piControl.nc',\n",
       "  '/home/jovyan/.cache/pooch/7476b1c80c6530a3632c6f7ef49bd9c5-train_val.tar.gz.untar/outputs_hist-GHG.nc',\n",
       "  '/home/jovyan/.cache/pooch/7476b1c80c6530a3632c6f7ef49bd9c5-train_val.tar.gz.untar/outputs_ssp370.nc',\n",
       "  '/home/jovyan/.cache/pooch/7476b1c80c6530a3632c6f7ef49bd9c5-train_val.tar.gz.untar/inputs_hist-aer.nc',\n",
       "  '/home/jovyan/.cache/pooch/7476b1c80c6530a3632c6f7ef49bd9c5-train_val.tar.gz.untar/outputs_ssp370-lowNTCF.nc',\n",
       "  '/home/jovyan/.cache/pooch/7476b1c80c6530a3632c6f7ef49bd9c5-train_val.tar.gz.untar/inputs_ssp126.nc',\n",
       "  '/home/jovyan/.cache/pooch/7476b1c80c6530a3632c6f7ef49bd9c5-train_val.tar.gz.untar/inputs_ssp585.nc',\n",
       "  '/home/jovyan/.cache/pooch/7476b1c80c6530a3632c6f7ef49bd9c5-train_val.tar.gz.untar/outputs_hist-aer.nc',\n",
       "  '/home/jovyan/.cache/pooch/7476b1c80c6530a3632c6f7ef49bd9c5-train_val.tar.gz.untar/outputs_1pctCO2.nc',\n",
       "  '/home/jovyan/.cache/pooch/7476b1c80c6530a3632c6f7ef49bd9c5-train_val.tar.gz.untar/outputs_abrupt-4xCO2.nc',\n",
       "  '/home/jovyan/.cache/pooch/7476b1c80c6530a3632c6f7ef49bd9c5-train_val.tar.gz.untar/inputs_1pctCO2.nc',\n",
       "  '/home/jovyan/.cache/pooch/7476b1c80c6530a3632c6f7ef49bd9c5-train_val.tar.gz.untar/outputs_ssp585.nc'],\n",
       " 'test': ['/home/jovyan/.cache/pooch/d3ec4eba9428c2e1ccf2b88ccacb741a-test.tar.gz.untar/outputs_ssp245.nc',\n",
       "  '/home/jovyan/.cache/pooch/d3ec4eba9428c2e1ccf2b88ccacb741a-test.tar.gz.untar/inputs_ssp245.nc']}"
      ]
     },
     "execution_count": 4,
     "metadata": {},
     "output_type": "execute_result"
    }
   ],
   "source": [
    "file_dict"
   ]
  },
  {
   "cell_type": "code",
   "execution_count": 24,
   "id": "202bcb25-2d7e-45c8-8c99-b87d8c661fda",
   "metadata": {},
   "outputs": [
    {
     "name": "stdout",
     "output_type": "stream",
     "text": [
      "Populating subdir: train_val\n",
      "gs://leap-persistent/jbusecke/data/climatebench/train_val/inputs_ssp370-lowNTCF.zarr\n",
      "gs://leap-persistent/jbusecke/data/climatebench/train_val/inputs_historical.zarr\n",
      "gs://leap-persistent/jbusecke/data/climatebench/train_val/outputs_ssp126.zarr\n",
      "gs://leap-persistent/jbusecke/data/climatebench/train_val/inputs_abrupt-4xCO2.zarr\n",
      "gs://leap-persistent/jbusecke/data/climatebench/train_val/inputs_ssp370.zarr\n",
      "gs://leap-persistent/jbusecke/data/climatebench/train_val/outputs_historical.zarr\n",
      "gs://leap-persistent/jbusecke/data/climatebench/train_val/inputs_hist-GHG.zarr\n",
      "gs://leap-persistent/jbusecke/data/climatebench/train_val/outputs_piControl.zarr\n",
      "gs://leap-persistent/jbusecke/data/climatebench/train_val/outputs_hist-GHG.zarr\n",
      "gs://leap-persistent/jbusecke/data/climatebench/train_val/outputs_ssp370.zarr\n",
      "gs://leap-persistent/jbusecke/data/climatebench/train_val/inputs_hist-aer.zarr\n",
      "gs://leap-persistent/jbusecke/data/climatebench/train_val/outputs_ssp370-lowNTCF.zarr\n",
      "gs://leap-persistent/jbusecke/data/climatebench/train_val/inputs_ssp126.zarr\n",
      "gs://leap-persistent/jbusecke/data/climatebench/train_val/inputs_ssp585.zarr\n",
      "gs://leap-persistent/jbusecke/data/climatebench/train_val/outputs_hist-aer.zarr\n",
      "gs://leap-persistent/jbusecke/data/climatebench/train_val/outputs_1pctCO2.zarr\n",
      "gs://leap-persistent/jbusecke/data/climatebench/train_val/outputs_abrupt-4xCO2.zarr\n",
      "gs://leap-persistent/jbusecke/data/climatebench/train_val/inputs_1pctCO2.zarr\n",
      "gs://leap-persistent/jbusecke/data/climatebench/train_val/outputs_ssp585.zarr\n",
      "Populating subdir: test\n",
      "gs://leap-persistent/jbusecke/data/climatebench/test/outputs_ssp245.zarr\n",
      "gs://leap-persistent/jbusecke/data/climatebench/test/inputs_ssp245.zarr\n"
     ]
    }
   ],
   "source": [
    "# save to cloud bucket\n",
    "for subdir, ds_dict in dataset_dict.items():\n",
    "    print(f\"Populating subdir: {subdir}\")\n",
    "    for file, ds in ds_dict.items():\n",
    "        store = f\"{target_bucket}/{subdir}/{file}.zarr\"\n",
    "        print(store)\n",
    "        mapper = fs.get_mapper(store)\n",
    "        ds.to_zarr(mapper, consolidated=True, mode='w')"
   ]
  }
 ],
 "metadata": {
  "kernelspec": {
   "display_name": "Python 3 (ipykernel)",
   "language": "python",
   "name": "python3"
  },
  "language_info": {
   "codemirror_mode": {
    "name": "ipython",
    "version": 3
   },
   "file_extension": ".py",
   "mimetype": "text/x-python",
   "name": "python",
   "nbconvert_exporter": "python",
   "pygments_lexer": "ipython3",
   "version": "3.9.13"
  }
 },
 "nbformat": 4,
 "nbformat_minor": 5
}
